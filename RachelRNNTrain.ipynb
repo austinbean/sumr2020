{
  "cells": [
    {
      "cell_type": "code",
      "source": [
        "using Pkg\n",
        "using CSV\n",
        "using DataFrames\n",
        "using Flux\n",
        "using Flux: onehot, onehotbatch, logitcrossentropy, reset!, throttle\n",
        "using Random\n",
        "using Statistics: mean\n",
        "Pkg.add(\"Parameters\")\n",
        "using Parameters: @with_kw"
      ],
      "outputs": [],
      "execution_count": null,
      "metadata": {}
    },
    {
      "cell_type": "code",
      "source": [
        "function build_model(args)\n",
        "    scanner = Chain(Dense(args.word_list_len, args.N, σ), LSTM(args.N, args.N))\n",
        "    #returns vector of length N of hidden states\n",
        "    encoder = Dense(args.N, 1, identity)\n",
        "    #encoder takes last element of scanner\n",
        "        #take output and sum all (bc continuous variable) so that args.langs_len = 1\n",
        "    #only want last hidden state \n",
        "    return scanner, encoder\n",
        "end"
      ],
      "outputs": [
        {
          "output_type": "execute_result",
          "execution_count": 3,
          "data": {
            "text/plain": [
              "build_model (generic function with 1 method)"
            ]
          },
          "metadata": {}
        }
      ],
      "execution_count": 3,
      "metadata": {}
    },
    {
      "cell_type": "code",
      "source": [
        "function model(x, scanner, encoder)\n",
        "    state = scanner.(x.data)[end]\n",
        "    reset!(scanner) #reset hidden states so each sentence gets own treatment\n",
        "    encoder(state)\n",
        "end"
      ],
      "outputs": [
        {
          "output_type": "execute_result",
          "execution_count": 4,
          "data": {
            "text/plain": [
              "model (generic function with 1 method)"
            ]
          },
          "metadata": {}
        }
      ],
      "execution_count": 4,
      "metadata": {}
    },
    {
      "cell_type": "code",
      "source": [
        "function train()\n",
        "    # Load Data\n",
        "    train_data, test_data, arg = process_data()\n",
        "    epochs = 50  \n",
        "    epoch_num = []\n",
        "    loss_values = []\n",
        "  \n",
        "    @info(\"Constructing Model...\")\n",
        "    scanner, encoder = build_model(arg)\n",
        "\n",
        "    loss(x, y) = Flux.mse(model(x, scanner, encoder), y)\n",
        "    #logitcrossentropy for discrete (classification), MSE for continuous (regression/predictive)\n",
        "    testloss() = mean(loss(t...) for t in test_data)\n",
        "    \n",
        "    opt = ADAM(arg.lr)\n",
        "    ps = params(scanner, encoder)\n",
        "    #telling it what you want to train, could be just scanner but here           #we want both\n",
        "    \n",
        "    print(string(epochs, \" *** epochs\")) \n",
        "    @info(\"Training...\")\n",
        "    #train more than once, put in loop\n",
        "    for i = 1:epochs\n",
        "        e =  testloss()\n",
        "        evalcb =  () -> @show e\n",
        "        push!(loss_values, e)\n",
        "        push!(epoch_num, i)\n",
        "        Flux.train!(loss, ps, train_data, opt, cb = throttle(evalcb,                 arg.throttle))\n",
        "    end\n",
        "    \n",
        "    df = DataFrame()\n",
        "    df.EpochNum = epoch_num\n",
        "    df.LossVals = loss_values\n",
        "\n",
        "    CSV.write(\"test_loss.csv\", df)\n",
        "end"
      ],
      "outputs": [
        {
          "output_type": "execute_result",
          "execution_count": 5,
          "data": {
            "text/plain": [
              "train (generic function with 1 method)"
            ]
          },
          "metadata": {}
        }
      ],
      "execution_count": 5,
      "metadata": {}
    },
    {
      "cell_type": "code",
      "source": [
        "train()"
      ],
      "outputs": [],
      "execution_count": null,
      "metadata": {}
    }
  ],
  "metadata": {
    "kernelspec": {
      "display_name": "Julia 1.4.2",
      "language": "julia",
      "name": "julia-1.4"
    },
    "language_info": {
      "file_extension": ".jl",
      "mimetype": "application/julia",
      "name": "julia",
      "version": "1.4.2"
    },
    "nteract": {
      "version": "0.23.3"
    }
  },
  "nbformat": 4,
  "nbformat_minor": 2
}